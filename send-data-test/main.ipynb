{
 "cells": [
  {
   "cell_type": "code",
   "execution_count": 1,
   "metadata": {},
   "outputs": [],
   "source": [
    "from matplotlib import pyplot as plt\n",
    "import pandas as pd\n",
    "import numpy as np"
   ]
  },
  {
   "cell_type": "markdown",
   "metadata": {},
   "source": [
    "### Dados do teste\n",
    "\n",
    "O teste foi realizado no bloco dos professores do IFPB-CG, do laboratório Assert(localização do gateway), no térreo, até o laboratório GComPI(localização do end-node), no subsolo, a distâncias entre esse dois laboratórios é aproximadamente  60 metros. Temos que ressaltar que o meio de transmissão é provido de vários obstáculos, entre eles, paredes densas, partes metálicas e equipamentos eletrônicos, o que dificulta a transmissão dos pacotes.\n",
    "\n",
    "\n",
    "| Variável  | Valor |\n",
    "|-|-|\n",
    "| __Duração__ | 1 dias |\n",
    "| __Distância__ | Em torno de 60 metros |\n",
    "| __Interferência do ambiente__ | Alta |\n",
    "| __Frequência__ | 916MHz |\n",
    "\n",
    "O gateway, ao receber os pacotes, envia para o servidor, hospedado na Microsoft Azure, os dados."
   ]
  },
  {
   "cell_type": "markdown",
   "metadata": {},
   "source": [
    "#### Get datas"
   ]
  },
  {
   "cell_type": "code",
   "execution_count": 2,
   "metadata": {},
   "outputs": [],
   "source": [
    "packages = pd.read_json('packages.json')\n",
    "sensors = pd.read_json('sensors.json')"
   ]
  },
  {
   "cell_type": "markdown",
   "metadata": {},
   "source": [
    "#### Convert string time to datatime"
   ]
  },
  {
   "cell_type": "code",
   "execution_count": 3,
   "metadata": {},
   "outputs": [],
   "source": [
    "packages['time'] = pd.to_datetime(packages['time'])\n",
    "sensors['time'] = pd.to_datetime(sensors['time'])"
   ]
  },
  {
   "cell_type": "markdown",
   "metadata": {},
   "source": [
    "#### Calculate the duration of the test"
   ]
  },
  {
   "cell_type": "code",
   "execution_count": 4,
   "metadata": {},
   "outputs": [
    {
     "data": {
      "text/plain": [
       "Timedelta('1 days 17:06:10.223000')"
      ]
     },
     "execution_count": 4,
     "metadata": {},
     "output_type": "execute_result"
    }
   ],
   "source": [
    "packages['time'].max() - packages['time'].min() "
   ]
  },
  {
   "cell_type": "markdown",
   "metadata": {},
   "source": [
    "## Dia 1 - 21/04/2020\n",
    "----"
   ]
  },
  {
   "cell_type": "code",
   "execution_count": 5,
   "metadata": {},
   "outputs": [
    {
     "data": {
      "text/html": [
       "<div>\n",
       "<style scoped>\n",
       "    .dataframe tbody tr th:only-of-type {\n",
       "        vertical-align: middle;\n",
       "    }\n",
       "\n",
       "    .dataframe tbody tr th {\n",
       "        vertical-align: top;\n",
       "    }\n",
       "\n",
       "    .dataframe thead th {\n",
       "        text-align: right;\n",
       "    }\n",
       "</style>\n",
       "<table border=\"1\" class=\"dataframe\">\n",
       "  <thead>\n",
       "    <tr style=\"text-align: right;\">\n",
       "      <th></th>\n",
       "      <th>time</th>\n",
       "      <th>count</th>\n",
       "      <th>nodeID</th>\n",
       "      <th>rssi</th>\n",
       "      <th>snr</th>\n",
       "      <th>success</th>\n",
       "    </tr>\n",
       "  </thead>\n",
       "  <tbody>\n",
       "    <tr>\n",
       "      <td>151</td>\n",
       "      <td>2020-04-21 23:57:16.854000+00:00</td>\n",
       "      <td>347</td>\n",
       "      <td>6e2b60d8-b40e-4d93-94fa-5ae8da8bf549</td>\n",
       "      <td>-116</td>\n",
       "      <td>-5.00</td>\n",
       "      <td>True</td>\n",
       "    </tr>\n",
       "    <tr>\n",
       "      <td>152</td>\n",
       "      <td>2020-04-21 23:52:16.842000+00:00</td>\n",
       "      <td>346</td>\n",
       "      <td>6e2b60d8-b40e-4d93-94fa-5ae8da8bf549</td>\n",
       "      <td>-114</td>\n",
       "      <td>-5.00</td>\n",
       "      <td>True</td>\n",
       "    </tr>\n",
       "    <tr>\n",
       "      <td>153</td>\n",
       "      <td>2020-04-21 23:47:17.093000+00:00</td>\n",
       "      <td>345</td>\n",
       "      <td>6e2b60d8-b40e-4d93-94fa-5ae8da8bf549</td>\n",
       "      <td>-115</td>\n",
       "      <td>-5.75</td>\n",
       "      <td>True</td>\n",
       "    </tr>\n",
       "    <tr>\n",
       "      <td>154</td>\n",
       "      <td>2020-04-21 23:42:16.551000+00:00</td>\n",
       "      <td>344</td>\n",
       "      <td>6e2b60d8-b40e-4d93-94fa-5ae8da8bf549</td>\n",
       "      <td>-115</td>\n",
       "      <td>-6.00</td>\n",
       "      <td>True</td>\n",
       "    </tr>\n",
       "    <tr>\n",
       "      <td>155</td>\n",
       "      <td>2020-04-21 23:37:17.087000+00:00</td>\n",
       "      <td>343</td>\n",
       "      <td>6e2b60d8-b40e-4d93-94fa-5ae8da8bf549</td>\n",
       "      <td>-115</td>\n",
       "      <td>-5.50</td>\n",
       "      <td>True</td>\n",
       "    </tr>\n",
       "    <tr>\n",
       "      <td>...</td>\n",
       "      <td>...</td>\n",
       "      <td>...</td>\n",
       "      <td>...</td>\n",
       "      <td>...</td>\n",
       "      <td>...</td>\n",
       "      <td>...</td>\n",
       "    </tr>\n",
       "    <tr>\n",
       "      <td>434</td>\n",
       "      <td>2020-04-21 00:21:36.032000+00:00</td>\n",
       "      <td>64</td>\n",
       "      <td>6e2b60d8-b40e-4d93-94fa-5ae8da8bf549</td>\n",
       "      <td>-115</td>\n",
       "      <td>-6.00</td>\n",
       "      <td>True</td>\n",
       "    </tr>\n",
       "    <tr>\n",
       "      <td>435</td>\n",
       "      <td>2020-04-21 00:16:35.880000+00:00</td>\n",
       "      <td>63</td>\n",
       "      <td>6e2b60d8-b40e-4d93-94fa-5ae8da8bf549</td>\n",
       "      <td>-113</td>\n",
       "      <td>-6.50</td>\n",
       "      <td>True</td>\n",
       "    </tr>\n",
       "    <tr>\n",
       "      <td>436</td>\n",
       "      <td>2020-04-21 00:11:35.734000+00:00</td>\n",
       "      <td>62</td>\n",
       "      <td>6e2b60d8-b40e-4d93-94fa-5ae8da8bf549</td>\n",
       "      <td>-113</td>\n",
       "      <td>-7.50</td>\n",
       "      <td>True</td>\n",
       "    </tr>\n",
       "    <tr>\n",
       "      <td>437</td>\n",
       "      <td>2020-04-21 00:06:35.590000+00:00</td>\n",
       "      <td>0</td>\n",
       "      <td>6e2b60d8-b40e-4d93-94fa-5ae8da8bf549</td>\n",
       "      <td>-115</td>\n",
       "      <td>-7.25</td>\n",
       "      <td>False</td>\n",
       "    </tr>\n",
       "    <tr>\n",
       "      <td>438</td>\n",
       "      <td>2020-04-21 00:01:35.444000+00:00</td>\n",
       "      <td>60</td>\n",
       "      <td>6e2b60d8-b40e-4d93-94fa-5ae8da8bf549</td>\n",
       "      <td>-116</td>\n",
       "      <td>-6.50</td>\n",
       "      <td>True</td>\n",
       "    </tr>\n",
       "  </tbody>\n",
       "</table>\n",
       "<p>288 rows × 6 columns</p>\n",
       "</div>"
      ],
      "text/plain": [
       "                                time  count  \\\n",
       "151 2020-04-21 23:57:16.854000+00:00    347   \n",
       "152 2020-04-21 23:52:16.842000+00:00    346   \n",
       "153 2020-04-21 23:47:17.093000+00:00    345   \n",
       "154 2020-04-21 23:42:16.551000+00:00    344   \n",
       "155 2020-04-21 23:37:17.087000+00:00    343   \n",
       "..                               ...    ...   \n",
       "434 2020-04-21 00:21:36.032000+00:00     64   \n",
       "435 2020-04-21 00:16:35.880000+00:00     63   \n",
       "436 2020-04-21 00:11:35.734000+00:00     62   \n",
       "437 2020-04-21 00:06:35.590000+00:00      0   \n",
       "438 2020-04-21 00:01:35.444000+00:00     60   \n",
       "\n",
       "                                   nodeID  rssi   snr  success  \n",
       "151  6e2b60d8-b40e-4d93-94fa-5ae8da8bf549  -116 -5.00     True  \n",
       "152  6e2b60d8-b40e-4d93-94fa-5ae8da8bf549  -114 -5.00     True  \n",
       "153  6e2b60d8-b40e-4d93-94fa-5ae8da8bf549  -115 -5.75     True  \n",
       "154  6e2b60d8-b40e-4d93-94fa-5ae8da8bf549  -115 -6.00     True  \n",
       "155  6e2b60d8-b40e-4d93-94fa-5ae8da8bf549  -115 -5.50     True  \n",
       "..                                    ...   ...   ...      ...  \n",
       "434  6e2b60d8-b40e-4d93-94fa-5ae8da8bf549  -115 -6.00     True  \n",
       "435  6e2b60d8-b40e-4d93-94fa-5ae8da8bf549  -113 -6.50     True  \n",
       "436  6e2b60d8-b40e-4d93-94fa-5ae8da8bf549  -113 -7.50     True  \n",
       "437  6e2b60d8-b40e-4d93-94fa-5ae8da8bf549  -115 -7.25    False  \n",
       "438  6e2b60d8-b40e-4d93-94fa-5ae8da8bf549  -116 -6.50     True  \n",
       "\n",
       "[288 rows x 6 columns]"
      ]
     },
     "execution_count": 5,
     "metadata": {},
     "output_type": "execute_result"
    }
   ],
   "source": [
    "min = pd.Timestamp('2020-04-21 00:00:00', tz='UTC')\n",
    "max = pd.Timestamp('2020-04-21 23:59:59', tz='UTC')\n",
    "\n",
    "day = packages[packages['time'] >= min]\n",
    "day = day[day['time'] <= max]\n",
    "\n",
    "day"
   ]
  },
  {
   "cell_type": "code",
   "execution_count": 9,
   "metadata": {},
   "outputs": [
    {
     "data": {
      "image/png": "[encoded data removed]",
      "text/plain": [
       "<Figure size 720x720 with 1 Axes>"
      ]
     },
     "metadata": {},
     "output_type": "display_data"
    }
   ],
   "source": [
    "labels = ['Success', 'Error']\n",
    "pie = day['success'].value_counts()\n",
    "\n",
    "fig = plt.figure(figsize=(10, 10))\n",
    "plt.pie(pie, labels=labels, autopct='%0.2f%%', explode=[0, 0.05])\n",
    "\n",
    "plt.title('Transmitted packets at 21/04/2020', fontsize=16)\n",
    "plt.show()"
   ]
  },
  {
   "cell_type": "markdown",
   "metadata": {},
   "source": [
    "#### Taixa de sucesso de entrega dos pacotes por hora"
   ]
  },
  {
   "cell_type": "code",
   "execution_count": null,
   "metadata": {},
   "outputs": [],
   "source": [
    "success = pd.Series(day['success'].values, index=day['time'].dt.strftime('%H')).rename_axis('date')\n",
    "\n",
    "pdr = success.groupby(success.index).sum()\n",
    "pdr"
   ]
  },
  {
   "cell_type": "code",
   "execution_count": null,
   "metadata": {},
   "outputs": [],
   "source": [
    "plt.figure(figsize=(18, 10))\n",
    "plt.bar(pdr.index, pdr.values / 12 * 100)\n",
    "\n",
    "plt.title('Percentage of packets successfully received per hour at 21/04/2020')\n",
    "plt.ylabel('Success (%)')\n",
    "plt.xlabel('Hour')\n",
    "plt.show()"
   ]
  },
  {
   "cell_type": "markdown",
   "metadata": {},
   "source": [
    "#### RSSI médio em cada hora"
   ]
  },
  {
   "cell_type": "code",
   "execution_count": null,
   "metadata": {},
   "outputs": [],
   "source": [
    "r = pd.Series(day['rssi'].values, index=day['time'].dt.strftime('%H'))\n",
    "\n",
    "rssi = r.groupby(r.index).mean()\n",
    "rssi_error = r.groupby(r.index).std()\n",
    "\n",
    "plt.figure(figsize=(18, 10))\n",
    "plt.errorbar(rssi.index, rssi.values, yerr=rssi_error, fmt='--o', linewidth=2.0, capsize=5)\n",
    "\n",
    "plt.rcParams.update({'font.size': 16})\n",
    "plt.title('RSSI mean per hour at 21/04/2020')\n",
    "plt.ylabel('RSSI (dBm)')\n",
    "plt.xlabel('Hour')\n",
    "plt.show()"
   ]
  },
  {
   "cell_type": "markdown",
   "metadata": {},
   "source": [
    "## Todo\n",
    "\n",
    "- [x] Sobrepor esse gráfico no de taxa de entrega, com eixo Y duplo. Pdr no lado esquerdo e rssi no lado direito\n",
    " - [X] sugestão de Ruan\n",
    " - [x] sugestão de Paulo\n",
    "\n",
    "- [x] Calcular o desvio padrão do RSSI também"
   ]
  },
  {
   "cell_type": "code",
   "execution_count": null,
   "metadata": {},
   "outputs": [],
   "source": [
    "fig, pdr_ax = plt.subplots(figsize=(18, 10))\n",
    "\n",
    "color = 'tab:cyan'\n",
    "\n",
    "pdr_lns = pdr_ax.bar(pdr.index, pdr.values / 12 * 100, color=color, label='Packet Delivery Ratio (PDR)')\n",
    "\n",
    "pdr_ax.set_xlabel('Hour', fontweight='bold')\n",
    "pdr_ax.tick_params(axis='y', labelcolor=color)\n",
    "pdr_ax.set_ylabel('Packet Delivery Ratio (PDR)', color=color, fontweight='bold')\n",
    "\n",
    "rssi_ax = pdr_ax.twinx()\n",
    "\n",
    "color = 'black'\n",
    "\n",
    "rssi_lns = rssi_ax.errorbar(rssi.index, rssi.values, yerr=rssi_error, color=color, fmt='--o', linewidth=2.0, capsize=5, label='RSSI (dBm)')\n",
    "\n",
    "rssi_ax.set_ylim((-120, -110))\n",
    "rssi_ax.set_ylabel('RSSI (dBm)', color=color, fontweight='bold')\n",
    "rssi_ax.tick_params(axis='y', labelcolor=color)\n",
    "\n",
    "lns = [pdr_lns] + [rssi_lns]\n",
    "labels = [l.get_label() for l in lns]\n",
    "\n",
    "plt.rcParams.update({'font.size': 16})\n",
    "plt.legend(lns, labels, loc=2, prop={'size': 16})\n",
    "plt.show()\n",
    "\n",
    "fig.savefig('21-04-2020-graph-01.png')"
   ]
  },
  {
   "cell_type": "code",
   "execution_count": null,
   "metadata": {},
   "outputs": [],
   "source": [
    "fig, pdr_ax = plt.subplots(figsize=(18, 10))\n",
    "\n",
    "color = 'tab:cyan'\n",
    "x = np.arange(24)\n",
    "w = 0.4\n",
    "\n",
    "pdr_lns = pdr_ax.bar(x, pdr.values / 12 * 100, width=w, label='Packet Delivery Ratio (PDR)')\n",
    "\n",
    "pdr_ax.set_xlabel('Hour')\n",
    "pdr_ax.set_ylabel('Packet Delivery Ratio (PDR)')\n",
    "pdr_ax.tick_params(axis='y')\n",
    "\n",
    "rssi_ax = pdr_ax.twinx()\n",
    "\n",
    "color = 'tab:cyan'\n",
    "\n",
    "rssi_lns = rssi_ax.bar(x + w, rssi.values, color=color, width=w, label='RSSI (dBm)')\n",
    "\n",
    "rssi_ax.set_ylabel('RSSI (dBm)', color=color)\n",
    "rssi_ax.tick_params(axis='y', labelcolor=color)\n",
    "rssi_ax.set_ylim((-110, -120))\n",
    "\n",
    "lns = [pdr_lns] + [rssi_lns]\n",
    "labels = [l.get_label() for l in lns]\n",
    "\n",
    "plt.rcParams.update({'font.size': 16})\n",
    "plt.xticks(x + w / 2, rssi.index, rotation='vertical')\n",
    "plt.legend(lns, labels, loc=0, prop={ 'size': 15} )\n",
    "plt.show()\n",
    "\n",
    "fig.savefig('21-04-2020-graph-02.png')"
   ]
  },
  {
   "cell_type": "code",
   "execution_count": null,
   "metadata": {},
   "outputs": [],
   "source": []
  }
 ],
 "metadata": {
  "kernelspec": {
   "display_name": "Python 3",
   "language": "python",
   "name": "python3"
  },
  "language_info": {
   "codemirror_mode": {
    "name": "ipython",
    "version": 3
   },
   "file_extension": ".py",
   "mimetype": "text/x-python",
   "name": "python",
   "nbconvert_exporter": "python",
   "pygments_lexer": "ipython3",
   "version": "3.7.4"
  }
 },
 "nbformat": 4,
 "nbformat_minor": 4
}
